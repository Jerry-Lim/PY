{
 "cells": [
  {
   "cell_type": "code",
   "execution_count": 1,
   "id": "b6177e34-5d7b-4d11-9515-bd066f6d24bd",
   "metadata": {},
   "outputs": [
    {
     "name": "stdout",
     "output_type": "stream",
     "text": [
      "HELLO WORLD\n"
     ]
    }
   ],
   "source": [
    "X=\"HELLO WORLD\"\n",
    "print(X)"
   ]
  },
  {
   "cell_type": "code",
   "execution_count": 3,
   "id": "1b42262e-b25f-4ac9-b063-8150b7850bd6",
   "metadata": {},
   "outputs": [
    {
     "data": {
      "text/plain": [
       "11"
      ]
     },
     "execution_count": 3,
     "metadata": {},
     "output_type": "execute_result"
    }
   ],
   "source": [
    "len(X)"
   ]
  },
  {
   "cell_type": "code",
   "execution_count": 4,
   "id": "86704c00-2f21-4ee0-8398-b44a99ea872c",
   "metadata": {},
   "outputs": [],
   "source": [
    "X=\"something else\""
   ]
  },
  {
   "cell_type": "code",
   "execution_count": 7,
   "id": "7e733d88-9a5f-4e95-a75c-cab62e1babf4",
   "metadata": {},
   "outputs": [
    {
     "data": {
      "text/plain": [
       "\u001b[1;31mSignature:\u001b[0m \u001b[0mX\u001b[0m\u001b[1;33m.\u001b[0m\u001b[0msplit\u001b[0m\u001b[1;33m(\u001b[0m\u001b[0msep\u001b[0m\u001b[1;33m=\u001b[0m\u001b[1;32mNone\u001b[0m\u001b[1;33m,\u001b[0m \u001b[0mmaxsplit\u001b[0m\u001b[1;33m=\u001b[0m\u001b[1;33m-\u001b[0m\u001b[1;36m1\u001b[0m\u001b[1;33m)\u001b[0m\u001b[1;33m\u001b[0m\u001b[1;33m\u001b[0m\u001b[0m\n",
       "\u001b[1;31mDocstring:\u001b[0m\n",
       "Return a list of the words in the string, using sep as the delimiter string.\n",
       "\n",
       "sep\n",
       "  The delimiter according which to split the string.\n",
       "  None (the default value) means split according to any whitespace,\n",
       "  and discard empty strings from the result.\n",
       "maxsplit\n",
       "  Maximum number of splits to do.\n",
       "  -1 (the default value) means no limit.\n",
       "\u001b[1;31mType:\u001b[0m      builtin_function_or_method\n"
      ]
     },
     "metadata": {},
     "output_type": "display_data"
    }
   ],
   "source": [
    "X.split?\n"
   ]
  },
  {
   "cell_type": "code",
   "execution_count": 8,
   "id": "da7e0643-e96c-4e19-bbaa-894738dbd402",
   "metadata": {},
   "outputs": [
    {
     "data": {
      "text/plain": [
       "['something', 'else']"
      ]
     },
     "execution_count": 8,
     "metadata": {},
     "output_type": "execute_result"
    }
   ],
   "source": [
    "X.split()"
   ]
  },
  {
   "cell_type": "code",
   "execution_count": 9,
   "id": "98af805a-3da2-4304-b7a6-77f6cb342be5",
   "metadata": {},
   "outputs": [
    {
     "data": {
      "text/plain": [
       "int"
      ]
     },
     "execution_count": 9,
     "metadata": {},
     "output_type": "execute_result"
    }
   ],
   "source": [
    "type(3)"
   ]
  },
  {
   "cell_type": "code",
   "execution_count": 10,
   "id": "78589931-710b-49b9-896e-1350e4180865",
   "metadata": {},
   "outputs": [
    {
     "data": {
      "text/plain": [
       "set"
      ]
     },
     "execution_count": 10,
     "metadata": {},
     "output_type": "execute_result"
    }
   ],
   "source": [
    "type({1,2,3})"
   ]
  },
  {
   "cell_type": "code",
   "execution_count": 12,
   "id": "86defdad-80ac-46fb-9582-cf63b3106448",
   "metadata": {},
   "outputs": [
    {
     "data": {
      "text/plain": [
       "'3.8.8 (default, Apr 13 2021, 15:08:03) [MSC v.1916 64 bit (AMD64)]'"
      ]
     },
     "execution_count": 12,
     "metadata": {},
     "output_type": "execute_result"
    }
   ],
   "source": [
    "import sys  #dealing with my system\n",
    "sys.version #tell me which version I currently use"
   ]
  },
  {
   "cell_type": "code",
   "execution_count": 13,
   "id": "bd6186eb-f3e0-41c3-9e82-0db1061820de",
   "metadata": {},
   "outputs": [],
   "source": [
    "import pandas as pd\n",
    "import numpy as np\n",
    "import matplotlib as mpl\n",
    "import datetime as dt"
   ]
  },
  {
   "cell_type": "code",
   "execution_count": 16,
   "id": "d7cc4269-7325-4c70-b815-45406b5ddfb7",
   "metadata": {},
   "outputs": [
    {
     "name": "stdout",
     "output_type": "stream",
     "text": [
      "<class 'float'>\n",
      "1230.5 1230.5\n"
     ]
    }
   ],
   "source": [
    "zf2=1_230.5 #use _ to make numbers more readable at code\n",
    "zf1=1230.5\n",
    "print(type(zf2))\n",
    "print(zf2,zf1)"
   ]
  },
  {
   "cell_type": "code",
   "execution_count": 17,
   "id": "9b89e47b-515b-48f9-9cd7-7dd9d2d813fc",
   "metadata": {},
   "outputs": [
    {
     "data": {
      "text/plain": [
       "-0.4480736161291701"
      ]
     },
     "execution_count": 17,
     "metadata": {},
     "output_type": "execute_result"
    },
    {
     "data": {
      "text/plain": [
       "\u001b[1;31mSignature:\u001b[0m \u001b[0mmath\u001b[0m\u001b[1;33m.\u001b[0m\u001b[0mcos\u001b[0m\u001b[1;33m(\u001b[0m\u001b[0mx\u001b[0m\u001b[1;33m,\u001b[0m \u001b[1;33m/\u001b[0m\u001b[1;33m)\u001b[0m\u001b[1;33m\u001b[0m\u001b[1;33m\u001b[0m\u001b[0m\n",
       "\u001b[1;31mDocstring:\u001b[0m Return the cosine of x (measured in radians).\n",
       "\u001b[1;31mType:\u001b[0m      builtin_function_or_method\n"
      ]
     },
     "metadata": {},
     "output_type": "display_data"
    }
   ],
   "source": [
    "import math #function like sin, cosine\n",
    "math.cos?\n",
    "math.cos(90)"
   ]
  },
  {
   "cell_type": "code",
   "execution_count": 20,
   "id": "15f48c90-7916-44ad-bb76-0b444f5c3598",
   "metadata": {},
   "outputs": [
    {
     "data": {
      "text/plain": [
       "5"
      ]
     },
     "execution_count": 20,
     "metadata": {},
     "output_type": "execute_result"
    }
   ],
   "source": [
    "37//7  #floor division"
   ]
  },
  {
   "cell_type": "code",
   "execution_count": 21,
   "id": "450a4db6-d98e-437c-a79e-4ca4cbeb2034",
   "metadata": {},
   "outputs": [
    {
     "data": {
      "text/plain": [
       "2"
      ]
     },
     "execution_count": 21,
     "metadata": {},
     "output_type": "execute_result"
    }
   ],
   "source": [
    "37%7   #modulus division"
   ]
  },
  {
   "cell_type": "code",
   "execution_count": 22,
   "id": "bcfbcb4d-0d42-49e9-9a6a-76ffcdb5c776",
   "metadata": {},
   "outputs": [
    {
     "data": {
      "text/plain": [
       "37"
      ]
     },
     "execution_count": 22,
     "metadata": {},
     "output_type": "execute_result"
    }
   ],
   "source": [
    "7*(37//7)+37%7"
   ]
  },
  {
   "cell_type": "code",
   "execution_count": 23,
   "id": "361757f3-2d08-46b6-9c73-a8a6b85927c8",
   "metadata": {},
   "outputs": [
    {
     "name": "stdout",
     "output_type": "stream",
     "text": [
      "hellohellohello\n",
      "helloworld\n"
     ]
    }
   ],
   "source": [
    "a=\"hello\"\n",
    "b=\"world\"\n",
    "print(3*a)\n",
    "print(a+b)"
   ]
  },
  {
   "cell_type": "code",
   "execution_count": 26,
   "id": "1fc2bd7c-8193-4e51-86b8-1d8498e17272",
   "metadata": {},
   "outputs": [
    {
     "data": {
      "text/plain": [
       "'hello'"
      ]
     },
     "execution_count": 26,
     "metadata": {},
     "output_type": "execute_result"
    }
   ],
   "source": [
    "a.lower()"
   ]
  },
  {
   "cell_type": "code",
   "execution_count": 27,
   "id": "e572a0e0-5599-4365-82b2-61d9c8a09e21",
   "metadata": {},
   "outputs": [
    {
     "data": {
      "text/plain": [
       "'HELLO'"
      ]
     },
     "execution_count": 27,
     "metadata": {},
     "output_type": "execute_result"
    }
   ],
   "source": [
    "a.upper()"
   ]
  },
  {
   "cell_type": "code",
   "execution_count": 29,
   "id": "a6f104d3-2e26-43d3-8a34-b0919fc907f9",
   "metadata": {},
   "outputs": [
    {
     "data": {
      "text/plain": [
       "2"
      ]
     },
     "execution_count": 29,
     "metadata": {},
     "output_type": "execute_result"
    }
   ],
   "source": [
    "a.count(\"l\") # how many times a particular string show up"
   ]
  },
  {
   "cell_type": "code",
   "execution_count": 31,
   "id": "16cefbbc-7219-4849-b53f-cd80bd02bbb2",
   "metadata": {},
   "outputs": [
    {
     "name": "stdout",
     "output_type": "stream",
     "text": [
      "Vietnam had $223.9 billion GDP in 2017\n"
     ]
    }
   ],
   "source": [
    "country=\"Vietnam\"\n",
    "GDP=223.9\n",
    "year=2017\n",
    "\n",
    "my_string=f'{country} had ${GDP} billion GDP in {year}'\n",
    "print(my_string)"
   ]
  },
  {
   "cell_type": "code",
   "execution_count": 32,
   "id": "c1667e7d-b092-4c1d-b812-8f070d4b883a",
   "metadata": {},
   "outputs": [
    {
     "name": "stdout",
     "output_type": "stream",
     "text": [
      "5**2=25\n"
     ]
    }
   ],
   "source": [
    "print(f'{5}**{2}={5**2}')"
   ]
  },
  {
   "cell_type": "code",
   "execution_count": 35,
   "id": "dd515381-1816-47b6-8404-97c8abe1d5ed",
   "metadata": {},
   "outputs": [
    {
     "name": "stdout",
     "output_type": "stream",
     "text": [
      "Vietnam had $ int(GDP*1000000) GDP in 2017\n"
     ]
    }
   ],
   "source": [
    "my_string=f'{country} had ${GDP*1000000} GDP in {year}'\n",
    "print(my_string)"
   ]
  },
  {
   "cell_type": "code",
   "execution_count": 36,
   "id": "561867fe-acfe-4f1d-b00e-8d9434c5b007",
   "metadata": {},
   "outputs": [
    {
     "data": {
      "text/plain": [
       "'Vietnam had $223.9 billion in 2017'"
      ]
     },
     "execution_count": 36,
     "metadata": {},
     "output_type": "execute_result"
    }
   ],
   "source": [
    "gdp_string=\"{country} had ${GDP} billion in {year}\"\n",
    "gdp_string.format(country=\"Vietnam\",GDP=223.9,year=2017)"
   ]
  },
  {
   "cell_type": "code",
   "execution_count": 37,
   "id": "8d3ee9ad-a209-4b72-86d3-3a3565828a6a",
   "metadata": {},
   "outputs": [
    {
     "name": "stdout",
     "output_type": "stream",
     "text": [
      "<class 'bool'> <class 'bool'>\n"
     ]
    }
   ],
   "source": [
    "x=True\n",
    "y=False\n",
    "print(type(x),type(y))"
   ]
  },
  {
   "cell_type": "code",
   "execution_count": 38,
   "id": "902fa8da-dd67-499a-b5ce-de5b1ff99542",
   "metadata": {},
   "outputs": [
    {
     "data": {
      "text/plain": [
       "[True]"
      ]
     },
     "execution_count": 38,
     "metadata": {},
     "output_type": "execute_result"
    }
   ],
   "source": [
    "True and [False or True]"
   ]
  },
  {
   "cell_type": "code",
   "execution_count": null,
   "id": "a1861804-d22a-465a-bbc0-acc0ed7e9eec",
   "metadata": {},
   "outputs": [],
   "source": []
  }
 ],
 "metadata": {
  "kernelspec": {
   "display_name": "Python 3",
   "language": "python",
   "name": "python3"
  },
  "language_info": {
   "codemirror_mode": {
    "name": "ipython",
    "version": 3
   },
   "file_extension": ".py",
   "mimetype": "text/x-python",
   "name": "python",
   "nbconvert_exporter": "python",
   "pygments_lexer": "ipython3",
   "version": "3.8.8"
  }
 },
 "nbformat": 4,
 "nbformat_minor": 5
}
